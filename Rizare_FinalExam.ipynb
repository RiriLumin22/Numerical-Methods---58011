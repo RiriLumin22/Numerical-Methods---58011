{
  "nbformat": 4,
  "nbformat_minor": 0,
  "metadata": {
    "colab": {
      "name": "Rizare_FinalExam.ipynb",
      "provenance": [],
      "authorship_tag": "ABX9TyO4kFrviXck7dQSVR+Aezfm",
      "include_colab_link": true
    },
    "kernelspec": {
      "name": "python3",
      "display_name": "Python 3"
    },
    "language_info": {
      "name": "python"
    }
  },
  "cells": [
    {
      "cell_type": "markdown",
      "metadata": {
        "id": "view-in-github",
        "colab_type": "text"
      },
      "source": [
        "<a href=\"https://colab.research.google.com/github/RiriLumin22/Numerical-Methods-58011/blob/main/Rizare_FinalExam.ipynb\" target=\"_parent\"><img src=\"https://colab.research.google.com/assets/colab-badge.svg\" alt=\"Open In Colab\"/></a>"
      ]
    },
    {
      "cell_type": "markdown",
      "source": [
        "##**Problem 3**##"
      ],
      "metadata": {
        "id": "z_10zHRK2Z4t"
      }
    },
    {
      "cell_type": "code",
      "execution_count": 10,
      "metadata": {
        "colab": {
          "base_uri": "https://localhost:8080/"
        },
        "id": "Eb_D2Jz5yFPo",
        "outputId": "e99f02ed-c0c0-49b6-d2c2-09fdf3750317"
      },
      "outputs": [
        {
          "output_type": "stream",
          "name": "stdout",
          "text": [
            "Integral = 2.1731\n"
          ]
        }
      ],
      "source": [
        "from math import exp\n",
        "def f(x): return exp(x) ##define the trigonometric function\n",
        "\n",
        "a = -1\n",
        "b = 1\n",
        "n = 10\n",
        "h = (b-a)/n   ##Width of the trapezoid\n",
        "S = h * (f(a)+f(b))   ##Beginning value of summation\n",
        "\n",
        "for i in range (1,n):\n",
        "    S += f(a+i*h)\n",
        "Integral = S*h\n",
        "print ('Integral = %0.4f' %Integral)"
      ]
    }
  ]
}